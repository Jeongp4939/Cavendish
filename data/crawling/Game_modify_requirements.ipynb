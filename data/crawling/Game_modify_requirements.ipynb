{
 "cells": [
  {
   "cell_type": "code",
   "execution_count": 1,
   "metadata": {},
   "outputs": [],
   "source": [
    "import pandas as pd\n",
    "import numpy as np\n",
    "import time\n",
    "import re"
   ]
  },
  {
   "cell_type": "code",
   "execution_count": 2,
   "metadata": {},
   "outputs": [],
   "source": [
    "# gp = pd.read_csv('../gameprograms230920.csv')\n",
    "# gp['usage'] = '게임'"
   ]
  },
  {
   "cell_type": "code",
   "execution_count": 3,
   "metadata": {},
   "outputs": [],
   "source": [
    "today = time.strftime('%y%m%d')\n",
    "# pd.DataFrame(gp).to_csv(f'../gameprograms{today}.csv', index=None)"
   ]
  },
  {
   "cell_type": "code",
   "execution_count": 4,
   "metadata": {},
   "outputs": [],
   "source": [
    "gr_origin = pd.read_csv('../gamerequirements_230922.csv')"
   ]
  },
  {
   "cell_type": "code",
   "execution_count": 5,
   "metadata": {},
   "outputs": [
    {
     "data": {
      "text/html": [
       "<div>\n",
       "<style scoped>\n",
       "    .dataframe tbody tr th:only-of-type {\n",
       "        vertical-align: middle;\n",
       "    }\n",
       "\n",
       "    .dataframe tbody tr th {\n",
       "        vertical-align: top;\n",
       "    }\n",
       "\n",
       "    .dataframe thead th {\n",
       "        text-align: right;\n",
       "    }\n",
       "</style>\n",
       "<table border=\"1\" class=\"dataframe\">\n",
       "  <thead>\n",
       "    <tr style=\"text-align: right;\">\n",
       "      <th></th>\n",
       "      <th>name</th>\n",
       "      <th>cpu</th>\n",
       "      <th>ram</th>\n",
       "      <th>gpu</th>\n",
       "      <th>dx</th>\n",
       "      <th>os</th>\n",
       "      <th>sto</th>\n",
       "      <th>spec_class</th>\n",
       "    </tr>\n",
       "  </thead>\n",
       "  <tbody>\n",
       "    <tr>\n",
       "      <th>0</th>\n",
       "      <td>A Bird Story</td>\n",
       "      <td>&gt; Intel Pentium III 800 MHz</td>\n",
       "      <td>2 GB RAM</td>\n",
       "      <td>1024x768 High Color +</td>\n",
       "      <td>Version 9.0c</td>\n",
       "      <td>XP, Vista, 7, 8</td>\n",
       "      <td>0.2</td>\n",
       "      <td>0</td>\n",
       "    </tr>\n",
       "    <tr>\n",
       "      <th>1</th>\n",
       "      <td>A Blind Legend</td>\n",
       "      <td>Dual Core CPU</td>\n",
       "      <td>1 GB RAM</td>\n",
       "      <td>generally everything made since 2004 should work.</td>\n",
       "      <td>Version 9.0</td>\n",
       "      <td>Windows XP SP2+</td>\n",
       "      <td>0.4</td>\n",
       "      <td>0</td>\n",
       "    </tr>\n",
       "    <tr>\n",
       "      <th>2</th>\n",
       "      <td>A Boy and His Blob</td>\n",
       "      <td>AMD Athlon 64 X2 Dual Core Processor 4600+, 2....</td>\n",
       "      <td>1 GB RAM</td>\n",
       "      <td>NVIDIA GeForce 9600 GT 512 MB / ATI Radeon HD ...</td>\n",
       "      <td>NaN</td>\n",
       "      <td>Windows 7-32Bit or Windows 8-32Bit</td>\n",
       "      <td>3</td>\n",
       "      <td>0</td>\n",
       "    </tr>\n",
       "    <tr>\n",
       "      <th>3</th>\n",
       "      <td>A Boy and His Blob</td>\n",
       "      <td>AMD Athlon 7850 Dual Core Processor 2.8GHz / I...</td>\n",
       "      <td>2 GB RAM</td>\n",
       "      <td>NVIDIA GeForce 9600 GT 1GB / ATI Radeon HD 465...</td>\n",
       "      <td>NaN</td>\n",
       "      <td>Windows 7-64Bit or Windows 8-64Bit</td>\n",
       "      <td>3</td>\n",
       "      <td>1</td>\n",
       "    </tr>\n",
       "    <tr>\n",
       "      <th>4</th>\n",
       "      <td>A City Sleeps</td>\n",
       "      <td>Intel Core2 Duo 3.00GHz</td>\n",
       "      <td>2 GB RAM</td>\n",
       "      <td>ATI Radeon 2400</td>\n",
       "      <td>9.0c</td>\n",
       "      <td>Windows 7 / 8</td>\n",
       "      <td>NaN</td>\n",
       "      <td>0</td>\n",
       "    </tr>\n",
       "    <tr>\n",
       "      <th>...</th>\n",
       "      <td>...</td>\n",
       "      <td>...</td>\n",
       "      <td>...</td>\n",
       "      <td>...</td>\n",
       "      <td>...</td>\n",
       "      <td>...</td>\n",
       "      <td>...</td>\n",
       "      <td>...</td>\n",
       "    </tr>\n",
       "    <tr>\n",
       "      <th>12090</th>\n",
       "      <td>99Vidas</td>\n",
       "      <td>Intel Core i5 @ 2.66GHz / AMD Phenom</td>\n",
       "      <td>4 GB RAM</td>\n",
       "      <td>NVIDIA GeForce GTX 460 (1GB) / ATI Radeon HD 5...</td>\n",
       "      <td>Version 11</td>\n",
       "      <td>Microsoft Windows 7 SP2 / Windows 8.1 / Window...</td>\n",
       "      <td>2</td>\n",
       "      <td>1</td>\n",
       "    </tr>\n",
       "    <tr>\n",
       "      <th>12091</th>\n",
       "      <td>9th Company: Roots of Terror</td>\n",
       "      <td>Intel Pentium 4 2400 MHz and higher</td>\n",
       "      <td>2048MB</td>\n",
       "      <td>3D accelerator with 128Mb video memory (NVIDIA...</td>\n",
       "      <td>DirectX 9.0 or higher</td>\n",
       "      <td>Windows XP SP2/Vista</td>\n",
       "      <td>NaN</td>\n",
       "      <td>0</td>\n",
       "    </tr>\n",
       "    <tr>\n",
       "      <th>12092</th>\n",
       "      <td>Ész-kerék</td>\n",
       "      <td>NaN</td>\n",
       "      <td>NaN</td>\n",
       "      <td>NaN</td>\n",
       "      <td>NaN</td>\n",
       "      <td>Dos</td>\n",
       "      <td>NaN</td>\n",
       "      <td>0</td>\n",
       "    </tr>\n",
       "    <tr>\n",
       "      <th>12093</th>\n",
       "      <td>été</td>\n",
       "      <td>NaN</td>\n",
       "      <td>NaN</td>\n",
       "      <td>NaN</td>\n",
       "      <td>NaN</td>\n",
       "      <td>Windows 7</td>\n",
       "      <td>4</td>\n",
       "      <td>0</td>\n",
       "    </tr>\n",
       "    <tr>\n",
       "      <th>12094</th>\n",
       "      <td>＜/reality＞</td>\n",
       "      <td>1.7 Ghz</td>\n",
       "      <td>512 MB RAM</td>\n",
       "      <td>OpenGL 2.0 or DirectX 9</td>\n",
       "      <td>NaN</td>\n",
       "      <td>Windows XP</td>\n",
       "      <td>0.5</td>\n",
       "      <td>0</td>\n",
       "    </tr>\n",
       "  </tbody>\n",
       "</table>\n",
       "<p>12095 rows × 8 columns</p>\n",
       "</div>"
      ],
      "text/plain": [
       "                               name  \\\n",
       "0                      A Bird Story   \n",
       "1                    A Blind Legend   \n",
       "2                A Boy and His Blob   \n",
       "3                A Boy and His Blob   \n",
       "4                     A City Sleeps   \n",
       "...                             ...   \n",
       "12090                       99Vidas   \n",
       "12091  9th Company: Roots of Terror   \n",
       "12092                     Ész-kerék   \n",
       "12093                           été   \n",
       "12094                    ＜/reality＞   \n",
       "\n",
       "                                                     cpu         ram  \\\n",
       "0                            > Intel Pentium III 800 MHz    2 GB RAM   \n",
       "1                                          Dual Core CPU    1 GB RAM   \n",
       "2      AMD Athlon 64 X2 Dual Core Processor 4600+, 2....    1 GB RAM   \n",
       "3      AMD Athlon 7850 Dual Core Processor 2.8GHz / I...    2 GB RAM   \n",
       "4                                Intel Core2 Duo 3.00GHz    2 GB RAM   \n",
       "...                                                  ...         ...   \n",
       "12090               Intel Core i5 @ 2.66GHz / AMD Phenom    4 GB RAM   \n",
       "12091                Intel Pentium 4 2400 MHz and higher      2048MB   \n",
       "12092                                                NaN         NaN   \n",
       "12093                                                NaN         NaN   \n",
       "12094                                            1.7 Ghz  512 MB RAM   \n",
       "\n",
       "                                                     gpu  \\\n",
       "0                                  1024x768 High Color +   \n",
       "1      generally everything made since 2004 should work.   \n",
       "2      NVIDIA GeForce 9600 GT 512 MB / ATI Radeon HD ...   \n",
       "3      NVIDIA GeForce 9600 GT 1GB / ATI Radeon HD 465...   \n",
       "4                                        ATI Radeon 2400   \n",
       "...                                                  ...   \n",
       "12090  NVIDIA GeForce GTX 460 (1GB) / ATI Radeon HD 5...   \n",
       "12091  3D accelerator with 128Mb video memory (NVIDIA...   \n",
       "12092                                                NaN   \n",
       "12093                                                NaN   \n",
       "12094                            OpenGL 2.0 or DirectX 9   \n",
       "\n",
       "                          dx  \\\n",
       "0               Version 9.0c   \n",
       "1                Version 9.0   \n",
       "2                        NaN   \n",
       "3                        NaN   \n",
       "4                       9.0c   \n",
       "...                      ...   \n",
       "12090             Version 11   \n",
       "12091  DirectX 9.0 or higher   \n",
       "12092                    NaN   \n",
       "12093                    NaN   \n",
       "12094                    NaN   \n",
       "\n",
       "                                                      os  sto  spec_class  \n",
       "0                                        XP, Vista, 7, 8  0.2           0  \n",
       "1                                        Windows XP SP2+  0.4           0  \n",
       "2                     Windows 7-32Bit or Windows 8-32Bit    3           0  \n",
       "3                     Windows 7-64Bit or Windows 8-64Bit    3           1  \n",
       "4                                          Windows 7 / 8  NaN           0  \n",
       "...                                                  ...  ...         ...  \n",
       "12090  Microsoft Windows 7 SP2 / Windows 8.1 / Window...    2           1  \n",
       "12091                               Windows XP SP2/Vista  NaN           0  \n",
       "12092                                                Dos  NaN           0  \n",
       "12093                                          Windows 7    4           0  \n",
       "12094                                         Windows XP  0.5           0  \n",
       "\n",
       "[12095 rows x 8 columns]"
      ]
     },
     "execution_count": 5,
     "metadata": {},
     "output_type": "execute_result"
    }
   ],
   "source": [
    "gr_origin"
   ]
  },
  {
   "cell_type": "code",
   "execution_count": 6,
   "metadata": {},
   "outputs": [
    {
     "data": {
      "text/plain": [
       "0        False\n",
       "1        False\n",
       "2        False\n",
       "3        False\n",
       "4          NaN\n",
       "         ...  \n",
       "12090    False\n",
       "12091      NaN\n",
       "12092      NaN\n",
       "12093    False\n",
       "12094    False\n",
       "Name: sto, Length: 12095, dtype: object"
      ]
     },
     "execution_count": 6,
     "metadata": {},
     "output_type": "execute_result"
    }
   ],
   "source": [
    "## 용량 시작.........................\n",
    "gr_origin['sto'].str.contains('4,500')"
   ]
  },
  {
   "cell_type": "code",
   "execution_count": 7,
   "metadata": {},
   "outputs": [
    {
     "data": {
      "text/plain": [
       "Series([], Name: sto, dtype: object)"
      ]
     },
     "execution_count": 7,
     "metadata": {},
     "output_type": "execute_result"
    }
   ],
   "source": [
    "gr_origin.loc[gr_origin['sto'].str.contains('3 meg of Hard Drive Space \\(for shareware\\)', na=False), 'sto']"
   ]
  },
  {
   "cell_type": "code",
   "execution_count": 8,
   "metadata": {},
   "outputs": [],
   "source": [
    "sto_regex_map = {',500': '500', '(a|A)t least ': '', '(M|m)b': 'MB', 'from': '', 'meg': 'MB',\n",
    "                 'Hard Drive Space: ': '', 'Approximately ': '', '7200 RPM or SSD drive, ': '',\n",
    "                 'Solid State Drive \\(SSD\\) ': '', 'Minimum ': '', '(a|A)bout ': '', 'Media: ': '',\n",
    "                 'Hard disk with ': '', 'DirectX® 9\\.0c': '', 'Up to ': '', '7200rpm or faster': '',\n",
    "                 'Complete installation:': '', 'Installation requires ': '', 'approx\\. ': '',\n",
    "                 'Hard Drive Space: ': '', 'Hard disk drive with ': '', 'To install \\~ ': '',\n",
    "                 'SSD strongly recommended': '', 'Hard disk space ': '', 'We do not know the final size of our game yet': '',\n",
    "                 'High Performance SSD Recommended with ': '', 'Please reserve ': '', 'SSD with ': '',\n",
    "                 }\n",
    "after_map = {r'(GB|Gb|[a-z]).*': ''}"
   ]
  },
  {
   "cell_type": "code",
   "execution_count": 9,
   "metadata": {},
   "outputs": [],
   "source": [
    "sto = gr_origin.sto.replace(regex=sto_regex_map).replace(regex=after_map)"
   ]
  },
  {
   "cell_type": "code",
   "execution_count": 10,
   "metadata": {},
   "outputs": [
    {
     "name": "stdout",
     "output_type": "stream",
     "text": [
      "gr: 12095/12095 (100%)"
     ]
    }
   ],
   "source": [
    "sto_list = []\n",
    "for i in range(len(sto)):\n",
    "    if pd.isnull(sto.loc[i]):\n",
    "        sto_list.append(None)\n",
    "        continue\n",
    "    sto.loc[i] = sto.loc[i].replace(',', '.')\n",
    "    mbflag = 'MB' in sto.loc[i]\n",
    "    sto.loc[i] = re.sub('MB.*', '', sto.loc[i])\n",
    "    sto.loc[i] = re.sub('[^\\d.]', '', sto.loc[i])\n",
    "    if mbflag: sto.loc[i] = str(float(sto.loc[i]) / 1000)\n",
    "    if sto.loc[i] == '': sto.loc[i] = None\n",
    "    sto_list.append(sto.loc[i])\n",
    "    percent = i / len(gr_origin.sto) * 100\n",
    "    print(f'\\rgr: {i+1}/{len(gr_origin.sto)} ({percent:.0f}%)', end='')"
   ]
  },
  {
   "cell_type": "code",
   "execution_count": 11,
   "metadata": {},
   "outputs": [],
   "source": [
    "# for a, b in zip(gr_origin.sto, sto_list):\n",
    "#     print(f'{a}::{b}')"
   ]
  },
  {
   "cell_type": "code",
   "execution_count": 12,
   "metadata": {},
   "outputs": [],
   "source": [
    "# gr_origin.sto = sto_list"
   ]
  },
  {
   "cell_type": "code",
   "execution_count": 24,
   "metadata": {},
   "outputs": [],
   "source": [
    "## 램 시작............\n",
    "# gr_origin.ram.unique()"
   ]
  },
  {
   "cell_type": "code",
   "execution_count": 14,
   "metadata": {},
   "outputs": [],
   "source": [
    "ram_regex_map = {r'(M|m)b': 'MB'}\n",
    "after_map = {r'(GB|Gb|[a-z]).*': ''}"
   ]
  },
  {
   "cell_type": "code",
   "execution_count": 15,
   "metadata": {},
   "outputs": [],
   "source": [
    "ram = gr_origin.ram.replace(regex=ram_regex_map).replace(regex=after_map)"
   ]
  },
  {
   "cell_type": "code",
   "execution_count": 48,
   "metadata": {},
   "outputs": [
    {
     "data": {
      "text/plain": [
       "9917    Memory 1 GB\n",
       "9918    Memory 2 GB\n",
       "Name: ram, dtype: object"
      ]
     },
     "execution_count": 48,
     "metadata": {},
     "output_type": "execute_result"
    }
   ],
   "source": [
    "k = gr_origin.loc[gr_origin.ram.str.contains(r'^Memory', na=False), 'ram']\n",
    "k"
   ]
  },
  {
   "cell_type": "code",
   "execution_count": 49,
   "metadata": {},
   "outputs": [],
   "source": [
    "# n = 0"
   ]
  },
  {
   "cell_type": "code",
   "execution_count": 52,
   "metadata": {},
   "outputs": [
    {
     "data": {
      "text/plain": [
       "'Memory 2 GB'"
      ]
     },
     "execution_count": 52,
     "metadata": {},
     "output_type": "execute_result"
    }
   ],
   "source": [
    "# idx = k.keys()[n]\n",
    "# n += 1\n",
    "# gr_origin.loc[idx, 'ram']"
   ]
  },
  {
   "cell_type": "code",
   "execution_count": 53,
   "metadata": {},
   "outputs": [],
   "source": [
    "# gr_origin.loc[idx, 'ram'] = '2 GB'"
   ]
  },
  {
   "cell_type": "code",
   "execution_count": 54,
   "metadata": {},
   "outputs": [],
   "source": [
    "# pd.DataFrame(gr_origin).to_csv(f'../gamerequirements{today}.csv', index=None)"
   ]
  },
  {
   "cell_type": "code",
   "execution_count": 58,
   "metadata": {},
   "outputs": [
    {
     "name": "stdout",
     "output_type": "stream",
     "text": [
      "gr: 12095/12095 (100%)"
     ]
    }
   ],
   "source": [
    "ram_list = []\n",
    "for i in range(len(ram)):\n",
    "    if pd.isnull(ram.loc[i]):\n",
    "        ram_list.append(None)\n",
    "        continue\n",
    "    ram.loc[i] = ram.loc[i].replace(',', '.')\n",
    "    mbflag = 'MB' in ram.loc[i]\n",
    "    ram.loc[i] = re.sub('MB.*', '', ram.loc[i])\n",
    "    ram.loc[i] = re.sub('[^\\d\\.]', '', ram.loc[i])\n",
    "    if mbflag: ram.loc[i] = str(float(ram.loc[i]) / 1024)\n",
    "    if ram.loc[i] == '': ram.loc[i] = None\n",
    "    ram_list.append(ram.loc[i])\n",
    "    percent = i / len(gr_origin.ram) * 100\n",
    "    print(f'\\rgr: {i+1}/{len(gr_origin.ram)} ({percent:.0f}%)', end='')"
   ]
  },
  {
   "cell_type": "code",
   "execution_count": 56,
   "metadata": {},
   "outputs": [],
   "source": [
    "# pd.DataFrame(gr_origin).to_csv(f'../gamerequirements_{today}.csv', index=None)"
   ]
  },
  {
   "cell_type": "code",
   "execution_count": 60,
   "metadata": {},
   "outputs": [],
   "source": [
    "# for a, b in zip(gr_origin.ram, ram_list):\n",
    "#     print(f'{a}::{b}')"
   ]
  },
  {
   "cell_type": "code",
   "execution_count": 70,
   "metadata": {},
   "outputs": [
    {
     "data": {
      "text/plain": [
       "0                              > Intel Pentium III 800 MHz\n",
       "1                                            Dual Core CPU\n",
       "2        AMD Athlon 64 X2 Dual Core Processor 4600+, 2....\n",
       "3        AMD Athlon 7850 Dual Core Processor 2.8GHz / I...\n",
       "4                                  Intel Core2 Duo 3.00GHz\n",
       "                               ...                        \n",
       "12090                 Intel Core i5 @ 2.66GHz / AMD Phenom\n",
       "12091                  Intel Pentium 4 2400 MHz and higher\n",
       "12092                                                  NaN\n",
       "12093                                                  NaN\n",
       "12094                                              1.7 Ghz\n",
       "Name: cpu, Length: 12095, dtype: object"
      ]
     },
     "execution_count": 70,
     "metadata": {},
     "output_type": "execute_result"
    }
   ],
   "source": [
    "gr_origin.cpu"
   ]
  },
  {
   "cell_type": "code",
   "execution_count": 325,
   "metadata": {},
   "outputs": [],
   "source": [
    "## CPU 시작.................\n",
    "cfile = pd.read_csv('../part_cpu_wb230921.csv')\n",
    "cpu = cfile.name\n",
    "cpu_mc = cfile.memory_clock\n",
    "cpu_bench = cfile.bench_mark\n",
    "req_cpu = gr_origin.cpu"
   ]
  },
  {
   "cell_type": "code",
   "execution_count": 277,
   "metadata": {},
   "outputs": [
    {
     "data": {
      "text/plain": [
       "0         AMD 라이젠5-5세대 7600\n",
       "1      AMD 라이젠7-5세대 7800X3D\n",
       "2       인텔 코어i5-13세대 13400F\n",
       "3        AMD 라이젠5-5세대 7500F\n",
       "4        AMD 라이젠5-5세대 7600X\n",
       "               ...         \n",
       "420             인텔 펜티엄 G870\n",
       "421             인텔 펜티엄 G850\n",
       "422             인텔 펜티엄 G840\n",
       "423            인텔 펜티엄 E2200\n",
       "424          인텔 코어2듀오 E6600\n",
       "Name: name, Length: 425, dtype: object"
      ]
     },
     "execution_count": 277,
     "metadata": {},
     "output_type": "execute_result"
    }
   ],
   "source": [
    "cpu"
   ]
  },
  {
   "cell_type": "code",
   "execution_count": 278,
   "metadata": {},
   "outputs": [
    {
     "data": {
      "text/plain": [
       "0                              > Intel Pentium III 800 MHz\n",
       "1                                            Dual Core CPU\n",
       "2        AMD Athlon 64 X2 Dual Core Processor 4600+, 2....\n",
       "3        AMD Athlon 7850 Dual Core Processor 2.8GHz / I...\n",
       "4                                  Intel Core2 Duo 3.00GHz\n",
       "                               ...                        \n",
       "12090                 Intel Core i5 @ 2.66GHz / AMD Phenom\n",
       "12091                  Intel Pentium 4 2400 MHz and higher\n",
       "12092                                                  NaN\n",
       "12093                                                  NaN\n",
       "12094                                              1.7 Ghz\n",
       "Name: cpu, Length: 12095, dtype: object"
      ]
     },
     "execution_count": 278,
     "metadata": {},
     "output_type": "execute_result"
    }
   ],
   "source": [
    "req_cpu"
   ]
  },
  {
   "cell_type": "code",
   "execution_count": 322,
   "metadata": {},
   "outputs": [
    {
     "data": {
      "text/plain": [
       "150       AMD 애슬론 3000G\n",
       "241       AMD 애슬론 200GE\n",
       "347    AMD 애슬론II-X4 620\n",
       "370    AMD 애슬론II-X3 425\n",
       "405    AMD 애슬론II-X4 630\n",
       "Name: name, dtype: object"
      ]
     },
     "execution_count": 322,
     "metadata": {},
     "output_type": "execute_result"
    }
   ],
   "source": [
    "cpu.loc[cpu.str.contains('애슬론', na=False)]"
   ]
  },
  {
   "cell_type": "code",
   "execution_count": 312,
   "metadata": {},
   "outputs": [
    {
     "data": {
      "text/plain": [
       "0                              > Intel Pentium III 800 MHz\n",
       "20       Intel Core i3-2100 (2 * 3100) or equivalent / ...\n",
       "24                                  Pentium II  350Mhz\\r\\n\n",
       "56                 Intel Pentium III or AMD Athlon 800 MHz\n",
       "62                                            P III 600MHz\n",
       "                               ...                        \n",
       "12014                                        PIII 700 MHz \n",
       "12020      Pentium III 800MHz or 100% compatible processor\n",
       "12028                                Pentium II 233MHz CPU\n",
       "12029                               Pentium III 500MHz CPU\n",
       "12037     Intel Pentium III 800 MHz or AMD Athlon 800 MHz \n",
       "Name: cpu, Length: 977, dtype: object"
      ]
     },
     "execution_count": 312,
     "metadata": {},
     "output_type": "execute_result"
    }
   ],
   "source": [
    "req_cpu.loc[req_cpu.str.contains('II', na=False)]"
   ]
  },
  {
   "cell_type": "code",
   "execution_count": 281,
   "metadata": {},
   "outputs": [
    {
     "data": {
      "text/plain": [
       "name                                            LEGO The Hobbit\n",
       "cpu                AMD or Intel Quad Core running at 4*2600 Mhz\n",
       "ram                                                    4 GB RAM\n",
       "gpu           NVIDIA GeForce GTX 480 or ATI Radeon HD 5850 o...\n",
       "dx                                                   Version 11\n",
       "os                                         Windows XP/Vista/7/8\n",
       "sto                                                          10\n",
       "spec_class                                                    1\n",
       "Name: 5492, dtype: object"
      ]
     },
     "execution_count": 281,
     "metadata": {},
     "output_type": "execute_result"
    }
   ],
   "source": [
    "gr_origin.loc[5492]"
   ]
  },
  {
   "cell_type": "code",
   "execution_count": 291,
   "metadata": {},
   "outputs": [
    {
     "data": {
      "text/plain": [
       "''"
      ]
     },
     "execution_count": 291,
     "metadata": {},
     "output_type": "execute_result"
    }
   ],
   "source": [
    "re.sub('\\([^)]+\\)', '', '(adasd)')"
   ]
  },
  {
   "cell_type": "code",
   "execution_count": 313,
   "metadata": {},
   "outputs": [],
   "source": [
    "cpu_regex_map = {'인텔': 'Intel ', '라이젠': 'Ryzen ', '코어2': 'Core2 ', '코어': 'Core ', '스레드리퍼': 'Threadripper ',\n",
    "          r'-\\d+세대': ' ', '펜티엄': 'Pentium ', '셀러론': 'Celeron ', '골드': 'Gold ',\n",
    "          'X-시리즈': ' ', '어벤져스 에디션': ' ', '제온': 'Xeon ', '브론즈': 'Beonze ',\n",
    "          '스케일러블': ' ', '실버': 'Silver ', '애슬론': 'Athlon', '듀오': ' Duo', '쿼드 ': ' Quad ',\n",
    "          '플래티넘': 'Platinum ', '\\+ ': ' ', 'V6': ' v6 ', 'V5': ' v5 ', 'V2': ' v2 ', 'V4': ' v4 ',\n",
    "                'V3': ' v3 '}\n",
    "req_regex_map = {'@': ' ', '\\+': '', r' ?(G|g)(H|h)(Z|z)': 'GHz', r' ?(M|m)(H|h)(Z|z)': 'MHz ', ' ?(C|c)ore': ' Core',\n",
    "                 'v2': ' v2', 'quad': 'Quad', 'duo': 'Duo', '\\n': ' ', '\\r': ' ', ',': '.', '(>|<)': '', ' GMHz': 'GHz',\n",
    "                 '\\([^)]+\\)': '', 'P266': '266', '4\\*2600': '10400', 'Pentium': ' Pentium ', 'II+': ''}\n",
    "none_regex_map = {r' +': ' ', '\\*': ''}"
   ]
  },
  {
   "cell_type": "code",
   "execution_count": 321,
   "metadata": {},
   "outputs": [],
   "source": [
    "cpu_reg = cpu.replace(regex=cpu_regex_map).replace(regex=none_regex_map)\n",
    "req_reg = req_cpu.replace(regex=req_regex_map).replace(regex=none_regex_map)"
   ]
  },
  {
   "cell_type": "code",
   "execution_count": 315,
   "metadata": {},
   "outputs": [],
   "source": [
    "c_names = cpu_reg.str.split(r' |-')\n",
    "reqc_names = req_reg.str.split(r' |-|/')"
   ]
  },
  {
   "cell_type": "code",
   "execution_count": 316,
   "metadata": {},
   "outputs": [],
   "source": [
    "cmc = cpu_mc.mul(0.001)\n",
    "\n",
    "for cn, cm in zip(c_names, cmc):\n",
    "    if pd.isnull(cm): cn.append(None)\n",
    "    else: cn.append(f'{cm}GHz')"
   ]
  },
  {
   "cell_type": "code",
   "execution_count": 317,
   "metadata": {},
   "outputs": [],
   "source": [
    "for lst in reqc_names:\n",
    "    if type(lst) == float: continue\n",
    "    for i in range(len(lst)):\n",
    "        if 'MHz' in lst[i]:\n",
    "            try:\n",
    "                val = str(float(lst[i].replace('MHz', '')) * 0.001)\n",
    "                lst[i] = f'{val}GHz'\n",
    "            except:\n",
    "                print(lst)"
   ]
  },
  {
   "cell_type": "code",
   "execution_count": 318,
   "metadata": {},
   "outputs": [
    {
     "data": {
      "text/plain": [
       "0             [AMD, Ryzen, 5, 7600, 5.2GHz]\n",
       "1          [AMD, Ryzen, 7, 7800X3D, 5.2GHz]\n",
       "2         [Intel, Core, i5, 13400F, 4.8GHz]\n",
       "3            [AMD, Ryzen, 5, 7500F, 5.2GHz]\n",
       "4            [AMD, Ryzen, 5, 7600X, 5.2GHz]\n",
       "                       ...                 \n",
       "420            [Intel, Pentium, G870, None]\n",
       "421            [Intel, Pentium, G850, None]\n",
       "422            [Intel, Pentium, G840, None]\n",
       "423         [Intel, Pentium, E2200, 0.8GHz]\n",
       "424    [Intel, Core2, Duo, E6600, 1.066GHz]\n",
       "Name: name, Length: 425, dtype: object"
      ]
     },
     "execution_count": 318,
     "metadata": {},
     "output_type": "execute_result"
    }
   ],
   "source": [
    "c_names"
   ]
  },
  {
   "cell_type": "code",
   "execution_count": 319,
   "metadata": {},
   "outputs": [
    {
     "data": {
      "text/plain": [
       "0                             [, Intel, Pentium, 0.8GHz, ]\n",
       "1                                        [Dual, Core, CPU]\n",
       "2        [AMD, Athlon, 64, X2, Dual, Core, Processor, 4...\n",
       "3        [AMD, Athlon, 7850, Dual, Core, Processor, 2.8...\n",
       "4                             [Intel, Core2, Duo, 3.00GHz]\n",
       "                               ...                        \n",
       "12090          [Intel, Core, i5, 2.66GHz, , , AMD, Phenom]\n",
       "12091             [Intel, Pentium, 4, 2.4GHz, and, higher]\n",
       "12092                                                  NaN\n",
       "12093                                                  NaN\n",
       "12094                                             [1.7GHz]\n",
       "Name: cpu, Length: 12095, dtype: object"
      ]
     },
     "execution_count": 319,
     "metadata": {},
     "output_type": "execute_result"
    }
   ],
   "source": [
    "reqc_names"
   ]
  },
  {
   "cell_type": "code",
   "execution_count": 328,
   "metadata": {},
   "outputs": [
    {
     "data": {
      "text/plain": [
       "False"
      ]
     },
     "execution_count": 328,
     "metadata": {},
     "output_type": "execute_result"
    }
   ],
   "source": [
    "np.inf < 90"
   ]
  },
  {
   "cell_type": "code",
   "execution_count": 331,
   "metadata": {},
   "outputs": [
    {
     "data": {
      "text/plain": [
       "False"
      ]
     },
     "execution_count": 331,
     "metadata": {},
     "output_type": "execute_result"
    }
   ],
   "source": [
    "np.inf < cpu_bench.loc[1]"
   ]
  },
  {
   "cell_type": "code",
   "execution_count": 332,
   "metadata": {},
   "outputs": [
    {
     "name": "stdout",
     "output_type": "stream",
     "text": [
      "cpu: 12095/12095 (100%)"
     ]
    }
   ],
   "source": [
    "id_list = [None] * len(reqc_names)\n",
    "for i in range(len(reqc_names)):\n",
    "    rn = reqc_names.loc[i]\n",
    "    if type(rn) == float:\n",
    "        continue\n",
    "    max_val = 0\n",
    "    min_bench = np.inf\n",
    "    for j in range(len(c_names)):\n",
    "        cn = c_names.loc[j]\n",
    "        res = len(set(rn) & set(cn))\n",
    "        val = res / float(len(set(rn) | set(cn))) * 100\n",
    "        if val >= max_val and min_bench > cpu_bench.loc[j]:\n",
    "            max_val = val\n",
    "            min_bench = cpu_bench.loc[j]\n",
    "            id_list[i] = f'{j+1}'\n",
    "    percent = i / len(reqc_names) * 100\n",
    "    print(f'\\rcpu: {i+1}/{len(reqc_names)} ({percent:.0f}%)', end='')"
   ]
  },
  {
   "cell_type": "code",
   "execution_count": null,
   "metadata": {},
   "outputs": [],
   "source": [
    "## 1. 게임 사양 <-> 벤치 이름 매칭\n",
    "## 2. 벤치 값 이상이면서 가장 작은 부품 매칭"
   ]
  },
  {
   "cell_type": "code",
   "execution_count": 341,
   "metadata": {},
   "outputs": [
    {
     "data": {
      "text/plain": [
       "0         AMD 라이젠5-5세대 7600\n",
       "1      AMD 라이젠7-5세대 7800X3D\n",
       "2       인텔 코어i5-13세대 13400F\n",
       "3        AMD 라이젠5-5세대 7500F\n",
       "4        AMD 라이젠5-5세대 7600X\n",
       "               ...         \n",
       "420             인텔 펜티엄 G870\n",
       "421             인텔 펜티엄 G850\n",
       "422             인텔 펜티엄 G840\n",
       "423            인텔 펜티엄 E2200\n",
       "424          인텔 코어2듀오 E6600\n",
       "Name: name, Length: 425, dtype: object"
      ]
     },
     "execution_count": 341,
     "metadata": {},
     "output_type": "execute_result"
    }
   ],
   "source": [
    "cpu"
   ]
  },
  {
   "cell_type": "code",
   "execution_count": 348,
   "metadata": {},
   "outputs": [
    {
     "name": "stdout",
     "output_type": "stream",
     "text": [
      ":    0:> Intel Pentium III 800 MHz        ::인텔 펜티엄 E2140\n",
      ":    1:Dual Core CPU                      ::인텔 코어i3-1세대 530\n",
      ":    2:AMD Athlon 64 X2 Dual Core Processor 4600+, 2.4GHz / Intel Pentium D 805 2.66GHz or higher::인텔 펜티엄 E2140\n",
      ":    3:AMD Athlon 7850 Dual Core Processor 2.8GHz / Intel Core 2 Duo E7500 2.93 GHz::인텔 코어2듀오 E7500\n",
      ":    4:Intel Core2 Duo 3.00GHz            ::인텔 코어2듀오 E4300\n",
      ":    5:1.5 GHz                            ::인텔 펜티엄 E2140\n",
      ":    6:2.4 GHz                            ::인텔 셀러론 G3950\n",
      ":    7:Dual Core 1.8 Ghz                  ::인텔 코어i3-1세대 530\n",
      ":    8:AMD/INTEL DUAL-CORE 2.2 GHZ        ::AMD A4 3300\n",
      ":    9:Intel Pentium D or AMD Athlon 64 X2::인텔 펜티엄 E2140\n",
      ":   10:Intel Core 2 Duo E6600 or AMD Athlon 64 X2 5000+ or better::인텔 코어2듀오 E6600\n",
      ":   11:Intel® Core™ i3                    ::인텔 코어i3-1세대 530\n",
      ":   12:Intel® Core™ i5-6500 3.2 Ghz       ::인텔 코어i5-1세대 650\n",
      ":   13:3.0 GHz processor                  ::인텔 펜티엄 E2140\n",
      ":   14:3.5 GHz processor                  ::인텔 펜티엄 E2140\n",
      ":   15:1,60 Ghz Intel Atom                ::인텔 펜티엄 E2140\n",
      ":   16:(Any)                              ::인텔 펜티엄 E2140\n",
      ":   17:2GHz+                              ::인텔 펜티엄 E2140\n",
      ":   18:Intel Core 2 Quad Q6600            ::인텔 코어2쿼드 Q6600\n",
      ":   19:Intel Core i5-6600K                ::인텔 코어i5-1세대 650\n",
      ":   20:Intel Core i3-2100 (2 * 3100) or equivalent / AMD Athlon II X4 645 AM3 (4 * 3100) or equivalent::인텔 코어i3-2세대 2100\n",
      ":   21:Intel Core i5-6600K (4 * 3500) or equivalent / AMD Ryzen 3 2200G (4 * 3500) or equivalent::인텔 코어i5-6세대 6600K\n",
      ":   22:Intel Core i3-4130 | AMD FX-8350   ::인텔 코어i3-4세대 4130\n",
      ":   23:Intel Core i5-3470 | AMD Ryzen 3 1200::인텔 코어i5-1세대 650\n",
      ":   24:Pentium II  350Mhz\n",
      "               ::인텔 펜티엄 E2140\n",
      ":   25:2GHz Single Core / 1,8GHz Dual Core::인텔 코어i3-1세대 530\n",
      ":   26:(Any)                              ::인텔 펜티엄 E2140\n",
      ":   27:Intel Core 2 Duo 2.4ghz or equivalent::인텔 코어i3-7세대 7100\n",
      ":   28:Intel Core i3-2120 (3.3 GHz)/AMD FX-4100 X4 (3.6 GHz)::인텔 코어i3-1세대 530\n",
      ":   29:Intel Core i5-4690 (3.5 GHz)/AMD FX-8300 (3.3 GHz)::인텔 코어i5-4세대 4690\n",
      ":   30:Intel Core i5-4690k (3.5 GHz) / AMD FX-8300 (3.3 GHz)::인텔 코어i5-1세대 650\n",
      ":   31:Intel Core i7-8700k (3.7 GHz) / AMD Ryzen 5 3600 (3.6 GHz)::인텔 코어i7-1세대 860\n",
      ":   32:Dual-core 2.2 GHz                  ::인텔 코어i3-1세대 530\n",
      ":   33:Dual-core 2.4 GHz                  ::인텔 코어i3-7세대 7100\n",
      ":   34:Intel Core i5 / AMD FX-6300        ::인텔 코어i5-1세대 650\n",
      ":   35:Intel Core i3-4340 / AMD FX-6300   ::인텔 코어i3-1세대 530\n",
      ":   36:Intel Pentium E2180 2.0 GHz (or AMD equivalent)::인텔 펜티엄 E2140\n",
      ":   37:Intel or AMD Dual Core at 2 GHz or better::인텔 코어i3-1세대 530\n",
      ":   38:CPU: Intel i5-4590, AMD FX 8350 equivalent or better::인텔 코어i5-1세대 650\n",
      ":   39:CPU: Intel i5-4590, AMD FX 8350 equivalent or better::인텔 코어i5-1세대 650\n",
      ":   40:Intel Core 2 Duo, AMD Athlon X2, or equal at 1.6GHz or better::AMD 애슬론 200GE\n",
      ":   41:QuadCore 2.0 GHz+                  ::AMD A4 3300\n",
      ":   42:Intel CPU Core i3                  ::인텔 코어i3-1세대 530\n",
      ":   43:Intel CPU Core i7                  ::인텔 코어i3-1세대 530\n",
      ":   44:1.6 GHz                            ::인텔 펜티엄 E2140\n",
      ":   45:2 GHz                              ::인텔 펜티엄 E2140\n",
      ":   48:1.7 GHz Dual Core or Greater       ::인텔 코어i3-1세대 530\n",
      ":   49:Intel core i3-2100T @ 2.5GHz/AMD FX 6100, or better::인텔 코어i3-1세대 530\n",
      ":   50:Intel Core i5 3570K; AMD Ryzen 3 1300x or equivalent::인텔 코어i5-1세대 650\n",
      ":   51:Intel Core i5-4590 equivalent or greater::인텔 코어i5-4세대 4590\n",
      ":   52:Intel or AMD 2.0-3.4 GHz Dual Core ::인텔 코어i3-1세대 530\n",
      ":   53:Intel/AMD 3.0+ GHz Quad Core or Greater::인텔 코어i3-1세대 530\n",
      ":   54:Intel or AMD 2.0-3.4 GHz Dual Core ::인텔 코어i3-1세대 530\n",
      ":   55:Intel/AMD 3.0+ GHz Quad Core or Greater::인텔 코어i3-1세대 530\n",
      ":   56:Intel Pentium III or AMD Athlon 800 MHz::인텔 펜티엄 E2140\n",
      ":   57:Intel Pentium IV or AMD Athlon 1,5 HHz::인텔 펜티엄 E2140\n",
      ":   58:Intel Pentium IV or AMD Athlon 800 MHz::인텔 펜티엄 E2140\n",
      ":   59:Intel Pentium IV or AMD Athlon 1,5 HHz::인텔 펜티엄 E2140\n",
      ":   60:2.2 ghz                            ::인텔 펜티엄 E2140\n",
      ":   61:2.4 ghz                            ::인텔 셀러론 G3950\n",
      ":   62:P III 600MHz                       ::인텔 펜티엄 E2140\n",
      ":   63:P III 1GHz                         ::인텔 펜티엄 E2140\n",
      ":   64:1.5 GHz processor                  ::인텔 펜티엄 E2140\n",
      ":   65:Intel Core i3                      ::인텔 코어i3-1세대 530\n",
      ":   66:AMD/intel dual-core running at 1,8 GHz (AMD Athlon II and Intel Core2Duo are the oldest CPU architectures recommended)::AMD A4 3300\n",
      ":   67:AMD/intel quad-core running at 2,2 GHz (Intel Core I 1st gen or AMD Phenom II x4 or newer architectures are recommended)::AMD A4 3300\n",
      ":   68:2.4GHz Processor                   ::인텔 셀러론 G3950\n",
      ":   69:2 GHz Dual-Core 64-bit CPU         ::인텔 코어i3-1세대 530\n",
      ":   70:2 GHz Processor or better          ::인텔 펜티엄 E2140\n",
      ":   71:2.2GHz Dual Core                   ::인텔 코어i3-1세대 530\n",
      ":   72:Intel Core i5-650 | AMD Phenom II X4 965::인텔 코어i5-1세대 650\n",
      ":   73:Intel Core i7-950 (4 * 3000) or equivalent / AMD Phenom II X4 965 (4 * 3400) or equivalent::인텔 코어i3-1세대 530\n",
      ":   74:Intel Core i5-4670K (4*3400) or equivalent / AMD FX-8320 (8 * 3500) or equivalent::인텔 코어i5-1세대 650\n",
      ":   75:Core i3 | AMD A6 2.4Ghz            ::인텔 코어i3-7세대 7100\n",
      ":   76:Intel Core 2 Duo 2.4 GHz or AMD Athlon X2 4800+::인텔 코어i3-7세대 7100\n",
      ":   77:Intel Core i5                      ::인텔 코어i5-1세대 650\n",
      ":   78:INTEL CORE I5-8400 or AMD RYZEN 3 3300X::AMD 라이젠3-1세대 2200G\n",
      ":   79:INTEL CORE I7-8700K or AMD RYZEN 5 3600X::AMD 라이젠5-1세대 1400\n",
      ":   80:3.0GHz CPU Dual Core               ::인텔 코어i3-1세대 530\n",
      ":   81:2.4GHz CPU Quad Core               ::인텔 코어i3-7세대 7100\n",
      ":   82:Pentium® III 1.4 GHz or faster or equivalent::인텔 펜티엄 E2140\n",
      ":   83:1.6 GHz                            ::인텔 펜티엄 E2140\n",
      ":   84:(Any)                              ::인텔 펜티엄 E2140\n",
      ":   85:Intel Core 2 Duo or AMD equivalent ::인텔 코어2듀오 E4300\n",
      ":   86:Intel i5 series or AMD equivalent  ::인텔 코어i5-1세대 650\n",
      ":   87:Intel i5-4590 equivalent or better ::인텔 코어i5-4세대 4590\n",
      ":   88:Intel Core i3-7100                 ::인텔 코어i3-7세대 7100\n",
      ":   89:Intel Core i5-7500                 ::인텔 코어i5-1세대 650\n",
      ":   90:Intel Core 2 Duo 1.8Ghz or AMD Athlon X2 2.4 Ghz::인텔 코어i3-7세대 7100\n",
      ":   91:Intel Core 2 Quad 2.7Ghz or better, AMD Phenom II X4 3Ghz or better::인텔 코어i3-1세대 530\n",
      ":   92:Intel Core 2 Duo 2GHz or higher    ::인텔 코어2듀오 E4300\n",
      ":   93:2.4 GHz Intel Dual Core Processor or AMD equivalent ::인텔 코어i3-7세대 7100\n",
      ":   94:2.6+ GHz Intel Quad Core Processor or AMD equivalent ::인텔 코어i3-1세대 530\n",
      ":   95:Pentium(R) 4 2.0 GHz or AMD(R) equivalent::AMD A4 3300\n",
      ":   96:AMD Ryzen™ 3 1200 / Intel® Core™ i3-8100::인텔 코어i3-8세대 8100\n",
      ":   97:AMD Ryzen™ 5 2600X / Intel® Core™ i5-8400::AMD 라이젠5-1세대 1400\n",
      ":   98:AMD Athlon x2 4200+ Intel Pentium D 3GHz::인텔 펜티엄 E2140\n",
      ":   99:AMD/INTEL DUAL-CORE 2.5 GHZ        ::AMD A4 3300\n"
     ]
    }
   ],
   "source": [
    "for i in range(100):\n",
    "    if type(req_cpu.loc[i]) == float: continue\n",
    "    print(f':{i:5d}:{req_cpu.loc[i]:35s}::{cpu.loc[int(id_list[i])-1]}')"
   ]
  },
  {
   "cell_type": "code",
   "execution_count": null,
   "metadata": {},
   "outputs": [],
   "source": []
  }
 ],
 "metadata": {
  "kernelspec": {
   "display_name": "Python 3",
   "language": "python",
   "name": "python3"
  },
  "language_info": {
   "codemirror_mode": {
    "name": "ipython",
    "version": 3
   },
   "file_extension": ".py",
   "mimetype": "text/x-python",
   "name": "python",
   "nbconvert_exporter": "python",
   "pygments_lexer": "ipython3",
   "version": "3.8.5"
  }
 },
 "nbformat": 4,
 "nbformat_minor": 4
}
